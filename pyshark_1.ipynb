{
 "cells": [
  {
   "cell_type": "code",
   "execution_count": null,
   "metadata": {},
   "outputs": [],
   "source": [
    "import pyshark"
   ]
  },
  {
   "cell_type": "code",
   "execution_count": null,
   "metadata": {},
   "outputs": [],
   "source": [
    "cap = pyshark.FileCapture('http.cap')"
   ]
  },
  {
   "cell_type": "code",
   "execution_count": null,
   "metadata": {},
   "outputs": [],
   "source": [
    "import asyncio\n",
    "import pyshark\n",
    "\n",
    "def capture_thread():\n",
    "    loop = asyncio.new_event_loop() # create a new event loop\n",
    "    asyncio.set_event_loop(loop) # set it as the current event loop\n",
    "    capture = pyshark.LiveCapture(interface='eth0')\n",
    "    capture.sniff(timeout=10)\n",
    "    capture.savefile('capture.pcap')\n",
    "\n",
    "t = threading.Thread(target=capture_thread)\n",
    "t.start()\n",
    "t.join()\n"
   ]
  },
  {
   "cell_type": "code",
   "execution_count": null,
   "metadata": {},
   "outputs": [],
   "source": [
    "import pyshark\n",
    "\n",
    "# create a LiveCapture object to capture network traffic on interface 'eth0'\n",
    "capture = pyshark.LiveCapture(interface='eth0')\n",
    "\n",
    "# start capturing packets and save them to a file called 'capture.pcap'\n",
    "capture.sniff(timeout=10)\n",
    "capture.savefile('capture.pcap')\n"
   ]
  },
  {
   "cell_type": "code",
   "execution_count": null,
   "metadata": {},
   "outputs": [],
   "source": [
    "import asyncio\n",
    "\n",
    "async def main():\n",
    "    # code that creates and starts threads that use asyncio event loop\n",
    "\n",
    "    if __name__ == \"__main__\":\n",
    "        asyncio.run(main())\n",
    "\n",
    "\n",
    "# create a LiveCapture object to capture network traffic on interface 'eth0'\n",
    "capture = pyshark.LiveCapture(interface='eth0')\n",
    "\n",
    "# start capturing packets and save them to a file called 'capture.pcap'\n",
    "capture.sniff(timeout=10)\n",
    "capture.savefile('capture.pcap')"
   ]
  },
  {
   "cell_type": "code",
   "execution_count": null,
   "metadata": {},
   "outputs": [],
   "source": [
    "import asyncio\n",
    "import threading\n",
    "\n",
    "def capture_thread():\n",
    "    loop = asyncio.new_event_loop()\n",
    "    asyncio.set_event_loop(loop)\n",
    "\n",
    "    # code that uses the event loop\n",
    "\n",
    "    loop.run_forever()\n",
    "\n",
    "if __name__ == \"__main__\":\n",
    "    t = threading.Thread(target=capture_thread)\n",
    "    t.start()\n",
    "\n"
   ]
  },
  {
   "cell_type": "code",
   "execution_count": 18,
   "metadata": {},
   "outputs": [
    {
     "ename": "RuntimeError",
     "evalue": "Cannot run the event loop while another loop is running",
     "output_type": "error",
     "traceback": [
      "\u001b[1;31m---------------------------------------------------------------------------\u001b[0m",
      "\u001b[1;31mRuntimeError\u001b[0m                              Traceback (most recent call last)",
      "Cell \u001b[1;32mIn[18], line 4\u001b[0m\n\u001b[0;32m      2\u001b[0m \u001b[39mtry\u001b[39;00m:\n\u001b[0;32m      3\u001b[0m     cap \u001b[39m=\u001b[39m pyshark\u001b[39m.\u001b[39mLiveCapture(interface\u001b[39m=\u001b[39m\u001b[39m'\u001b[39m\u001b[39mwlan0\u001b[39m\u001b[39m'\u001b[39m, output_file\u001b[39m=\u001b[39m\u001b[39m'\u001b[39m\u001b[39mpyshark.pcap\u001b[39m\u001b[39m'\u001b[39m)\n\u001b[1;32m----> 4\u001b[0m     cap\u001b[39m.\u001b[39;49msniff()\n\u001b[0;32m      5\u001b[0m \u001b[39mexcept\u001b[39;00m \u001b[39mKeyboardInterrupt\u001b[39;00m:\n\u001b[0;32m      6\u001b[0m     \u001b[39mprint\u001b[39m(cap)\n",
      "File \u001b[1;32mc:\\Users\\frederico.santos\\AppData\\Local\\anaconda3\\envs\\scraping\\lib\\site-packages\\pyshark\\capture\\capture.py:144\u001b[0m, in \u001b[0;36mCapture.load_packets\u001b[1;34m(self, packet_count, timeout)\u001b[0m\n\u001b[0;32m    141\u001b[0m         \u001b[39mraise\u001b[39;00m StopCapture()\n\u001b[0;32m    143\u001b[0m \u001b[39mtry\u001b[39;00m:\n\u001b[1;32m--> 144\u001b[0m     \u001b[39mself\u001b[39;49m\u001b[39m.\u001b[39;49mapply_on_packets(\n\u001b[0;32m    145\u001b[0m         keep_packet, timeout\u001b[39m=\u001b[39;49mtimeout, packet_count\u001b[39m=\u001b[39;49mpacket_count)\n\u001b[0;32m    146\u001b[0m     \u001b[39mself\u001b[39m\u001b[39m.\u001b[39mloaded \u001b[39m=\u001b[39m \u001b[39mTrue\u001b[39;00m\n\u001b[0;32m    147\u001b[0m \u001b[39mexcept\u001b[39;00m asyncTimeoutError:\n",
      "File \u001b[1;32mc:\\Users\\frederico.santos\\AppData\\Local\\anaconda3\\envs\\scraping\\lib\\site-packages\\pyshark\\capture\\capture.py:256\u001b[0m, in \u001b[0;36mCapture.apply_on_packets\u001b[1;34m(self, callback, timeout, packet_count)\u001b[0m\n\u001b[0;32m    254\u001b[0m \u001b[39mif\u001b[39;00m timeout \u001b[39mis\u001b[39;00m \u001b[39mnot\u001b[39;00m \u001b[39mNone\u001b[39;00m:\n\u001b[0;32m    255\u001b[0m     coro \u001b[39m=\u001b[39m asyncio\u001b[39m.\u001b[39mwait_for(coro, timeout)\n\u001b[1;32m--> 256\u001b[0m \u001b[39mreturn\u001b[39;00m \u001b[39mself\u001b[39;49m\u001b[39m.\u001b[39;49meventloop\u001b[39m.\u001b[39;49mrun_until_complete(coro)\n",
      "File \u001b[1;32mc:\\Users\\frederico.santos\\AppData\\Local\\anaconda3\\envs\\scraping\\lib\\asyncio\\base_events.py:625\u001b[0m, in \u001b[0;36mBaseEventLoop.run_until_complete\u001b[1;34m(self, future)\u001b[0m\n\u001b[0;32m    614\u001b[0m \u001b[39m\u001b[39m\u001b[39m\"\"\"Run until the Future is done.\u001b[39;00m\n\u001b[0;32m    615\u001b[0m \n\u001b[0;32m    616\u001b[0m \u001b[39mIf the argument is a coroutine, it is wrapped in a Task.\u001b[39;00m\n\u001b[1;32m   (...)\u001b[0m\n\u001b[0;32m    622\u001b[0m \u001b[39mReturn the Future's result, or raise its exception.\u001b[39;00m\n\u001b[0;32m    623\u001b[0m \u001b[39m\"\"\"\u001b[39;00m\n\u001b[0;32m    624\u001b[0m \u001b[39mself\u001b[39m\u001b[39m.\u001b[39m_check_closed()\n\u001b[1;32m--> 625\u001b[0m \u001b[39mself\u001b[39;49m\u001b[39m.\u001b[39;49m_check_running()\n\u001b[0;32m    627\u001b[0m new_task \u001b[39m=\u001b[39m \u001b[39mnot\u001b[39;00m futures\u001b[39m.\u001b[39misfuture(future)\n\u001b[0;32m    628\u001b[0m future \u001b[39m=\u001b[39m tasks\u001b[39m.\u001b[39mensure_future(future, loop\u001b[39m=\u001b[39m\u001b[39mself\u001b[39m)\n",
      "File \u001b[1;32mc:\\Users\\frederico.santos\\AppData\\Local\\anaconda3\\envs\\scraping\\lib\\asyncio\\base_events.py:586\u001b[0m, in \u001b[0;36mBaseEventLoop._check_running\u001b[1;34m(self)\u001b[0m\n\u001b[0;32m    584\u001b[0m     \u001b[39mraise\u001b[39;00m \u001b[39mRuntimeError\u001b[39;00m(\u001b[39m'\u001b[39m\u001b[39mThis event loop is already running\u001b[39m\u001b[39m'\u001b[39m)\n\u001b[0;32m    585\u001b[0m \u001b[39mif\u001b[39;00m events\u001b[39m.\u001b[39m_get_running_loop() \u001b[39mis\u001b[39;00m \u001b[39mnot\u001b[39;00m \u001b[39mNone\u001b[39;00m:\n\u001b[1;32m--> 586\u001b[0m     \u001b[39mraise\u001b[39;00m \u001b[39mRuntimeError\u001b[39;00m(\n\u001b[0;32m    587\u001b[0m         \u001b[39m'\u001b[39m\u001b[39mCannot run the event loop while another loop is running\u001b[39m\u001b[39m'\u001b[39m)\n",
      "\u001b[1;31mRuntimeError\u001b[0m: Cannot run the event loop while another loop is running"
     ]
    }
   ],
   "source": [
    "import pyshark\n",
    "try:\n",
    "    cap = pyshark.LiveCapture(interface='eth', output_file='pyshark.pcap')\n",
    "    cap.sniff()\n",
    "except KeyboardInterrupt:\n",
    "    print(cap)\n",
    "    "
   ]
  },
  {
   "cell_type": "code",
   "execution_count": null,
   "metadata": {},
   "outputs": [],
   "source": [
    "pcap = pyshark.FileCapture"
   ]
  }
 ],
 "metadata": {
  "kernelspec": {
   "display_name": "scraping",
   "language": "python",
   "name": "python3"
  },
  "language_info": {
   "codemirror_mode": {
    "name": "ipython",
    "version": 3
   },
   "file_extension": ".py",
   "mimetype": "text/x-python",
   "name": "python",
   "nbconvert_exporter": "python",
   "pygments_lexer": "ipython3",
   "version": "3.10.11"
  },
  "orig_nbformat": 4
 },
 "nbformat": 4,
 "nbformat_minor": 2
}
